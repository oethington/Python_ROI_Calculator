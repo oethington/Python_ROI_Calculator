{
 "cells": [
  {
   "cell_type": "code",
   "execution_count": 2,
   "id": "13efdfa9",
   "metadata": {},
   "outputs": [
    {
     "name": "stdout",
     "output_type": "stream",
     "text": [
      "Welcome to Your ROI Calculator\n",
      "Enter Property Address: 4601 Manzanillo Dr\n",
      "Enter Down Payment: 25000\n",
      "Enter Any Rehab Costs: 5000\n",
      "Enter Total Closing Costs: 3000\n",
      "Enter Any Other Investment Costs: 0\n",
      "Enter Total Monthly Income: 2500\n",
      "Enter Total Monthly Operating Expenses: 1100\n",
      "\n",
      "Rental Property Details:\n",
      "Property: 4601 Manzanillo Dr\n",
      " Initial Investment: $33000.0\n",
      " Annual Income: $16800.0\n",
      " Your Estimated ROI: 6.11%\n"
     ]
    }
   ],
   "source": [
    "class RentalProperty:\n",
    "    def __init__(self, prop_address, down_payment, rehab_cost, closing_cost, other_investment_cost, monthly_rent, operating_expenses):\n",
    "        self.prop_address = prop_address\n",
    "        self.down_payment = float(down_payment)\n",
    "        self.rehab_cost = float(rehab_cost)\n",
    "        self.closing_cost = float(closing_cost)\n",
    "        self.other_investment_cost = float(other_investment_cost)\n",
    "        self.monthly_rent = float(monthly_rent)\n",
    "        self.operating_expenses = float(operating_expenses)\n",
    "\n",
    "    def calculateROI(self):\n",
    "        annual_income = self.monthly_rent * 12\n",
    "        annual_expenses = self.operating_expenses * 12\n",
    "        cash_flow = annual_income - annual_expenses\n",
    "        initial_investment = self.down_payment + self.rehab_cost + self.closing_cost + self.other_investment_cost\n",
    "\n",
    "        roi = (cash_flow * 12) / initial_investment\n",
    "        return roi\n",
    "    \n",
    "    def __str__(self):\n",
    "        initial_investment = self.down_payment + self.rehab_cost + self.closing_cost + self.other_investment_cost\n",
    "        cash_flow = self.monthly_rent * 12 - self.operating_expenses * 12\n",
    "        roi = self.calculateROI()\n",
    "        return f'Property: {self.prop_address}\\n Initial Investment: ${initial_investment}\\n Annual Income: ${cash_flow}\\n Your Estimated ROI: {roi:.2f}%'\n",
    "\n",
    "def data_collection():\n",
    "    prop_address = input(\"Enter Property Address: \")\n",
    "    down_payment = input(\"Enter Down Payment: \")\n",
    "    rehab_cost = input(\"Enter Any Rehab Costs: \")\n",
    "    closing_cost = input(\"Enter Total Closing Costs: \")\n",
    "    other_investment_cost = input(\"Enter Any Other Investment Costs: \")\n",
    "    monthly_rent = input(\"Enter Total Monthly Income: \")\n",
    "    operating_expenses = input(\"Enter Total Monthly Operating Expenses: \")\n",
    "\n",
    "    return prop_address, down_payment, rehab_cost, closing_cost, other_investment_cost, monthly_rent, operating_expenses\n",
    "\n",
    "def main():\n",
    "    print(\"Welcome to Your ROI Calculator\")\n",
    "\n",
    "    prop_address, down_payment, rehab_cost, closing_cost, other_investment_cost, monthly_rent, operating_expenses = data_collection()\n",
    "    property1 = RentalProperty(prop_address, down_payment, rehab_cost, closing_cost, other_investment_cost, monthly_rent, operating_expenses)\n",
    "    \n",
    "    print(\"\\nRental Property Details:\")\n",
    "    print(property1)\n",
    "\n",
    "if __name__ == \"__main__\":\n",
    "    main()"
   ]
  },
  {
   "cell_type": "code",
   "execution_count": null,
   "id": "7610fefa",
   "metadata": {},
   "outputs": [],
   "source": []
  }
 ],
 "metadata": {
  "kernelspec": {
   "display_name": "Python 3 (ipykernel)",
   "language": "python",
   "name": "python3"
  },
  "language_info": {
   "codemirror_mode": {
    "name": "ipython",
    "version": 3
   },
   "file_extension": ".py",
   "mimetype": "text/x-python",
   "name": "python",
   "nbconvert_exporter": "python",
   "pygments_lexer": "ipython3",
   "version": "3.9.12"
  }
 },
 "nbformat": 4,
 "nbformat_minor": 5
}
